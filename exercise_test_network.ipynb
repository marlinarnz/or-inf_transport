{
 "cells": [
  {
   "cell_type": "markdown",
   "metadata": {},
   "source": [
    "# Exercise for OR-INF transport module 2021\n",
    "Introduction to the basics of transport modelling. If you want to learn more by yourself, have a read in [Modelling Transport by Ortúzar and Willumsen](https://www.wiley.com/en-us/Modelling+Transport%2C+4th+Edition-p-9780470760390) or have a look into a more complex [transport model for Germany](https://github.com/marlinarnz/quetzal_germany)."
   ]
  },
  {
   "cell_type": "code",
   "execution_count": 1,
   "metadata": {},
   "outputs": [],
   "source": [
    "# Libraries we need\n",
    "import pandas as pd\n",
    "import geopandas as gpd\n",
    "import numpy as np\n",
    "from shapely import geometry\n",
    "from geopy.distance import geodesic"
   ]
  },
  {
   "cell_type": "markdown",
   "metadata": {},
   "source": [
    "The `pandas` and `numpy` libraries are core tools for all kinds of data handling and analysis in Python. `pandas` allows easy and quick handling of data in so-called DataFrames ([pandas tutorials](https://pandas.pydata.org/pandas-docs/stable/getting_started/intro_tutorials/index.html)). `geopandas` is an extension of `pandas` which adds functionalities for geometric operations. `numpy` is the essential library for mathematical operations. `shapely.geometry` provides classes for geometric operations, while `geopy.distance.geodesic` provides a method for calculation geometric distances in meters."
   ]
  },
  {
   "cell_type": "markdown",
   "metadata": {},
   "source": [
    "## Create a test network\n",
    "Before we get startet we need nodes and links to carry out transport analysis."
   ]
  },
  {
   "cell_type": "code",
   "execution_count": 2,
   "metadata": {},
   "outputs": [
    {
     "data": {
      "text/html": [
       "<div>\n",
       "<style scoped>\n",
       "    .dataframe tbody tr th:only-of-type {\n",
       "        vertical-align: middle;\n",
       "    }\n",
       "\n",
       "    .dataframe tbody tr th {\n",
       "        vertical-align: top;\n",
       "    }\n",
       "\n",
       "    .dataframe thead th {\n",
       "        text-align: right;\n",
       "    }\n",
       "</style>\n",
       "<table border=\"1\" class=\"dataframe\">\n",
       "  <thead>\n",
       "    <tr style=\"text-align: right;\">\n",
       "      <th></th>\n",
       "      <th>name</th>\n",
       "      <th>lat</th>\n",
       "      <th>lon</th>\n",
       "    </tr>\n",
       "  </thead>\n",
       "  <tbody>\n",
       "    <tr>\n",
       "      <th>0</th>\n",
       "      <td>Berlin</td>\n",
       "      <td>52.518611</td>\n",
       "      <td>13.408333</td>\n",
       "    </tr>\n",
       "    <tr>\n",
       "      <th>1</th>\n",
       "      <td>Hamburg</td>\n",
       "      <td>53.550556</td>\n",
       "      <td>9.993333</td>\n",
       "    </tr>\n",
       "    <tr>\n",
       "      <th>2</th>\n",
       "      <td>Frankfurt</td>\n",
       "      <td>50.110556</td>\n",
       "      <td>8.682222</td>\n",
       "    </tr>\n",
       "    <tr>\n",
       "      <th>3</th>\n",
       "      <td>Stuttgart</td>\n",
       "      <td>48.775556</td>\n",
       "      <td>9.182778</td>\n",
       "    </tr>\n",
       "  </tbody>\n",
       "</table>\n",
       "</div>"
      ],
      "text/plain": [
       "        name        lat        lon\n",
       "0     Berlin  52.518611  13.408333\n",
       "1    Hamburg  53.550556   9.993333\n",
       "2  Frankfurt  50.110556   8.682222\n",
       "3  Stuttgart  48.775556   9.182778"
      ]
     },
     "execution_count": 2,
     "metadata": {},
     "output_type": "execute_result"
    }
   ],
   "source": [
    "# Create our test network nodes\n",
    "nodes = pd.DataFrame(\n",
    "    data={'name': ['Berlin', 'Hamburg', 'Frankfurt', 'Stuttgart'],\n",
    "          'lat': [52.518611, 53.550556, 50.110556, 48.775556],\n",
    "          'lon': [13.408333, 9.993333, 8.682222, 9.182778]})\n",
    "nodes"
   ]
  },
  {
   "cell_type": "code",
   "execution_count": 3,
   "metadata": {},
   "outputs": [],
   "source": [
    "# Create a GeoDataFrame. It looks similar\n",
    "# but has additional attributes like plotting\n",
    "nodes = gpd.GeoDataFrame(\n",
    "    nodes, geometry=gpd.points_from_xy(nodes.lon, nodes.lat))"
   ]
  },
  {
   "cell_type": "code",
   "execution_count": 4,
   "metadata": {},
   "outputs": [
    {
     "name": "stderr",
     "output_type": "stream",
     "text": [
      "In C:\\Users\\marlin.arnz\\AppData\\Local\\Continuum\\miniconda3\\envs\\quetzal\\lib\\site-packages\\matplotlib\\mpl-data\\stylelib\\_classic_test.mplstyle: \n",
      "The text.latex.preview rcparam was deprecated in Matplotlib 3.3 and will be removed two minor releases later.\n",
      "In C:\\Users\\marlin.arnz\\AppData\\Local\\Continuum\\miniconda3\\envs\\quetzal\\lib\\site-packages\\matplotlib\\mpl-data\\stylelib\\_classic_test.mplstyle: \n",
      "The mathtext.fallback_to_cm rcparam was deprecated in Matplotlib 3.3 and will be removed two minor releases later.\n",
      "In C:\\Users\\marlin.arnz\\AppData\\Local\\Continuum\\miniconda3\\envs\\quetzal\\lib\\site-packages\\matplotlib\\mpl-data\\stylelib\\_classic_test.mplstyle: Support for setting the 'mathtext.fallback_to_cm' rcParam is deprecated since 3.3 and will be removed two minor releases later; use 'mathtext.fallback : 'cm' instead.\n",
      "In C:\\Users\\marlin.arnz\\AppData\\Local\\Continuum\\miniconda3\\envs\\quetzal\\lib\\site-packages\\matplotlib\\mpl-data\\stylelib\\_classic_test.mplstyle: \n",
      "The validate_bool_maybe_none function was deprecated in Matplotlib 3.3 and will be removed two minor releases later.\n",
      "In C:\\Users\\marlin.arnz\\AppData\\Local\\Continuum\\miniconda3\\envs\\quetzal\\lib\\site-packages\\matplotlib\\mpl-data\\stylelib\\_classic_test.mplstyle: \n",
      "The savefig.jpeg_quality rcparam was deprecated in Matplotlib 3.3 and will be removed two minor releases later.\n",
      "In C:\\Users\\marlin.arnz\\AppData\\Local\\Continuum\\miniconda3\\envs\\quetzal\\lib\\site-packages\\matplotlib\\mpl-data\\stylelib\\_classic_test.mplstyle: \n",
      "The keymap.all_axes rcparam was deprecated in Matplotlib 3.3 and will be removed two minor releases later.\n",
      "In C:\\Users\\marlin.arnz\\AppData\\Local\\Continuum\\miniconda3\\envs\\quetzal\\lib\\site-packages\\matplotlib\\mpl-data\\stylelib\\_classic_test.mplstyle: \n",
      "The animation.avconv_path rcparam was deprecated in Matplotlib 3.3 and will be removed two minor releases later.\n",
      "In C:\\Users\\marlin.arnz\\AppData\\Local\\Continuum\\miniconda3\\envs\\quetzal\\lib\\site-packages\\matplotlib\\mpl-data\\stylelib\\_classic_test.mplstyle: \n",
      "The animation.avconv_args rcparam was deprecated in Matplotlib 3.3 and will be removed two minor releases later.\n"
     ]
    },
    {
     "data": {
      "text/plain": [
       "<AxesSubplot:>"
      ]
     },
     "execution_count": 4,
     "metadata": {},
     "output_type": "execute_result"
    },
    {
     "data": {
      "image/png": "[encoded data removed]",
      "text/plain": [
       "<Figure size 432x288 with 1 Axes>"
      ]
     },
     "metadata": {
      "needs_background": "light"
     },
     "output_type": "display_data"
    }
   ],
   "source": [
    "# Load basemap shapes\n",
    "countries = gpd.read_file(gpd.datasets.get_path('naturalearth_lowres'))\n",
    "ger = countries[countries['name']=='Germany']\n",
    "# Plot test network nodes\n",
    "nodes.plot(c='r', ax=ger.plot())"
   ]
  },
  {
   "cell_type": "code",
   "execution_count": 5,
   "metadata": {},
   "outputs": [],
   "source": [
    "# Create links from every node to every node\n",
    "links = pd.DataFrame(\n",
    "    {'a': [0,0,0,1,1,1,2,2,2,3,3,3]*2,\n",
    "     'b': [1,2,3,0,2,3,0,1,3,0,1,2]*2,\n",
    "     'mode': ['rail']*12+['car']*12})\n",
    "# Add the geometry\n",
    "links = gpd.GeoDataFrame(\n",
    "    links, geometry=[geometry.LineString([\n",
    "        nodes.loc[row.a, 'geometry'],nodes.loc[row.b, 'geometry']\n",
    "    ]) for _, row in links.iterrows()])\n",
    "# Add the distance in km\n",
    "links['dist'] = [geodesic(l.coords[0], l.coords[-1]).km\n",
    "                 for l in list(links['geometry'])]\n",
    "# Add level of service (LoS) attribute time in h\n",
    "links['time'] = links['dist'] / 110 #km/h is about average\n",
    "# Adjust time of rail services\n",
    "links.loc[links['mode']=='rail', 'time'] = [\n",
    "    1.8,4.2,6.2, 1.8,3.5,5.5, 4.2,3.5,1.5, 6.2,5.5,1.5]"
   ]
  },
  {
   "cell_type": "code",
   "execution_count": 6,
   "metadata": {},
   "outputs": [
    {
     "data": {
      "text/html": [
       "<div>\n",
       "<style scoped>\n",
       "    .dataframe tbody tr th:only-of-type {\n",
       "        vertical-align: middle;\n",
       "    }\n",
       "\n",
       "    .dataframe tbody tr th {\n",
       "        vertical-align: top;\n",
       "    }\n",
       "\n",
       "    .dataframe thead th {\n",
       "        text-align: right;\n",
       "    }\n",
       "</style>\n",
       "<table border=\"1\" class=\"dataframe\">\n",
       "  <thead>\n",
       "    <tr style=\"text-align: right;\">\n",
       "      <th></th>\n",
       "      <th>a</th>\n",
       "      <th>b</th>\n",
       "      <th>mode</th>\n",
       "      <th>geometry</th>\n",
       "      <th>dist</th>\n",
       "      <th>time</th>\n",
       "    </tr>\n",
       "  </thead>\n",
       "  <tbody>\n",
       "    <tr>\n",
       "      <th>0</th>\n",
       "      <td>0</td>\n",
       "      <td>1</td>\n",
       "      <td>rail</td>\n",
       "      <td>LINESTRING (13.40833 52.51861, 9.99333 53.55056)</td>\n",
       "      <td>394.159512</td>\n",
       "      <td>1.8</td>\n",
       "    </tr>\n",
       "    <tr>\n",
       "      <th>1</th>\n",
       "      <td>0</td>\n",
       "      <td>2</td>\n",
       "      <td>rail</td>\n",
       "      <td>LINESTRING (13.40833 52.51861, 8.68222 50.11056)</td>\n",
       "      <td>585.230160</td>\n",
       "      <td>4.2</td>\n",
       "    </tr>\n",
       "    <tr>\n",
       "      <th>2</th>\n",
       "      <td>0</td>\n",
       "      <td>3</td>\n",
       "      <td>rail</td>\n",
       "      <td>LINESTRING (13.40833 52.51861, 9.18278 48.77556)</td>\n",
       "      <td>620.801595</td>\n",
       "      <td>6.2</td>\n",
       "    </tr>\n",
       "    <tr>\n",
       "      <th>3</th>\n",
       "      <td>1</td>\n",
       "      <td>0</td>\n",
       "      <td>rail</td>\n",
       "      <td>LINESTRING (9.99333 53.55056, 13.40833 52.51861)</td>\n",
       "      <td>394.159512</td>\n",
       "      <td>1.8</td>\n",
       "    </tr>\n",
       "  </tbody>\n",
       "</table>\n",
       "</div>"
      ],
      "text/plain": [
       "   a  b  mode                                          geometry        dist  \\\n",
       "0  0  1  rail  LINESTRING (13.40833 52.51861, 9.99333 53.55056)  394.159512   \n",
       "1  0  2  rail  LINESTRING (13.40833 52.51861, 8.68222 50.11056)  585.230160   \n",
       "2  0  3  rail  LINESTRING (13.40833 52.51861, 9.18278 48.77556)  620.801595   \n",
       "3  1  0  rail  LINESTRING (9.99333 53.55056, 13.40833 52.51861)  394.159512   \n",
       "\n",
       "   time  \n",
       "0   1.8  \n",
       "1   4.2  \n",
       "2   6.2  \n",
       "3   1.8  "
      ]
     },
     "execution_count": 6,
     "metadata": {},
     "output_type": "execute_result"
    }
   ],
   "source": [
    "links.head(4)"
   ]
  },
  {
   "cell_type": "code",
   "execution_count": 7,
   "metadata": {},
   "outputs": [
    {
     "data": {
      "text/plain": [
       "<AxesSubplot:>"
      ]
     },
     "execution_count": 7,
     "metadata": {},
     "output_type": "execute_result"
    },
    {
     "data": {
      "image/png": "[encoded data removed]",
      "text/plain": [
       "<Figure size 432x288 with 1 Axes>"
      ]
     },
     "metadata": {
      "needs_background": "light"
     },
     "output_type": "display_data"
    }
   ],
   "source": [
    "# Plot\n",
    "nodes.plot(c='r', ax=links.plot(color='y', ax=ger.plot()))"
   ]
  },
  {
   "cell_type": "markdown",
   "metadata": {},
   "source": [
    "## Step 1: Calculate mode choice probabilities\n",
    "Now we can calculate the probabilities of using one or the other mode in a logit formulation. First, we use the level of service (LoS) attribute time."
   ]
  },
  {
   "cell_type": "code",
   "execution_count": 8,
   "metadata": {},
   "outputs": [],
   "source": [
    "# Mathematical formulation of the MNL model\n",
    "def mnl(od_pair, los_cols=['time'], beta=[1.5]):\n",
    "    '''Calculates the probabilities for each mode on the given\n",
    "        OD pair\n",
    "    @param od_pair: pandas DataFrame slice of links from one \n",
    "        origin to one destination for all modes of analysis\n",
    "    @param los_cols: list of DataFrame column names for all LoS\n",
    "        attributes of analysis\n",
    "    @param beta: list of numerical calibration factors for \n",
    "        every LoS attribute given\n",
    "    @return: list of probabilities for each mode in od_pair\n",
    "        in order of appearence'''\n",
    "    v = [sum([row[los_cols[i]] * beta[i]\n",
    "              for i in range(len(los_cols))]\n",
    "            ) for _, row in od_pair.iterrows()]\n",
    "    p = [1 - np.exp(val) / sum([np.exp(m) for m in v])\n",
    "         for val in v]\n",
    "    return p"
   ]
  },
  {
   "cell_type": "markdown",
   "metadata": {},
   "source": [
    "Use the above function to calculate a new column `probs_1` in links. Hint: Iterate over OD-pairs, give them to the MNL function and save the returned values to the new column of this OD pair"
   ]
  },
  {
   "cell_type": "code",
   "execution_count": 9,
   "metadata": {},
   "outputs": [],
   "source": [
    "# There are many ways to get probabilities as a new col\n",
    "links['probs_1'] = "
   ]
  },
  {
   "cell_type": "code",
   "execution_count": 10,
   "metadata": {},
   "outputs": [
    {
     "data": {
      "text/html": [
       "<div>\n",
       "<style scoped>\n",
       "    .dataframe tbody tr th:only-of-type {\n",
       "        vertical-align: middle;\n",
       "    }\n",
       "\n",
       "    .dataframe tbody tr th {\n",
       "        vertical-align: top;\n",
       "    }\n",
       "\n",
       "    .dataframe thead th {\n",
       "        text-align: right;\n",
       "    }\n",
       "</style>\n",
       "<table border=\"1\" class=\"dataframe\">\n",
       "  <thead>\n",
       "    <tr style=\"text-align: right;\">\n",
       "      <th></th>\n",
       "      <th>probs_1</th>\n",
       "    </tr>\n",
       "    <tr>\n",
       "      <th>mode</th>\n",
       "      <th></th>\n",
       "    </tr>\n",
       "  </thead>\n",
       "  <tbody>\n",
       "    <tr>\n",
       "      <th>car</th>\n",
       "      <td>0.435031</td>\n",
       "    </tr>\n",
       "    <tr>\n",
       "      <th>rail</th>\n",
       "      <td>0.564969</td>\n",
       "    </tr>\n",
       "  </tbody>\n",
       "</table>\n",
       "</div>"
      ],
      "text/plain": [
       "       probs_1\n",
       "mode          \n",
       "car   0.435031\n",
       "rail  0.564969"
      ]
     },
     "execution_count": 10,
     "metadata": {},
     "output_type": "execute_result"
    }
   ],
   "source": [
    "# Calculate the mean of the results\n",
    "links.groupby('mode').agg({'probs_1': 'mean'})"
   ]
  },
  {
   "cell_type": "markdown",
   "metadata": {},
   "source": [
    "## Step 2: New LoS attribute travel cost\n",
    "After adding a new column for travel cost, you can apply the above formula again. First, add a column `cost` to links. Cost in EUR have the following dependencies with trip distance:\n",
    "\n",
    "- car (average direct cost in Germany without vehicle maintenance or purchase cost): 0.12 * distance\n",
    "- rail (ticket prices without Bahncard or Sparpreis): 0.7 * distance^0.8\n",
    "\n",
    "Hint: Use `np.power(base, exponent)` for calculation of rail fares"
   ]
  },
  {
   "cell_type": "code",
   "execution_count": 11,
   "metadata": {},
   "outputs": [],
   "source": [
    "links['cost'] = "
   ]
  },
  {
   "cell_type": "code",
   "execution_count": 12,
   "metadata": {},
   "outputs": [],
   "source": [
    "links['probs_2'] = "
   ]
  },
  {
   "cell_type": "code",
   "execution_count": 13,
   "metadata": {},
   "outputs": [
    {
     "data": {
      "text/html": [
       "<div>\n",
       "<style scoped>\n",
       "    .dataframe tbody tr th:only-of-type {\n",
       "        vertical-align: middle;\n",
       "    }\n",
       "\n",
       "    .dataframe tbody tr th {\n",
       "        vertical-align: top;\n",
       "    }\n",
       "\n",
       "    .dataframe thead th {\n",
       "        text-align: right;\n",
       "    }\n",
       "</style>\n",
       "<table border=\"1\" class=\"dataframe\">\n",
       "  <thead>\n",
       "    <tr style=\"text-align: right;\">\n",
       "      <th></th>\n",
       "      <th>probs_1</th>\n",
       "      <th>probs_2</th>\n",
       "    </tr>\n",
       "    <tr>\n",
       "      <th>mode</th>\n",
       "      <th></th>\n",
       "      <th></th>\n",
       "    </tr>\n",
       "  </thead>\n",
       "  <tbody>\n",
       "    <tr>\n",
       "      <th>car</th>\n",
       "      <td>0.435031</td>\n",
       "      <td>0.738596</td>\n",
       "    </tr>\n",
       "    <tr>\n",
       "      <th>rail</th>\n",
       "      <td>0.564969</td>\n",
       "      <td>0.261404</td>\n",
       "    </tr>\n",
       "  </tbody>\n",
       "</table>\n",
       "</div>"
      ],
      "text/plain": [
       "       probs_1   probs_2\n",
       "mode                    \n",
       "car   0.435031  0.738596\n",
       "rail  0.564969  0.261404"
      ]
     },
     "execution_count": 13,
     "metadata": {},
     "output_type": "execute_result"
    }
   ],
   "source": [
    "# Calculate the mean of all results\n"
   ]
  },
  {
   "cell_type": "markdown",
   "metadata": {},
   "source": [
    "## Step 3: Political action for sustainable transport\n",
    "Now assume: Due to tax reductions for rail operators rail services cost 10% less. Moreover, a speed limit of 120km/h on motorways is enforced, which reduces average car travel speed to 100km/h. What are the new mode choice probabilities?"
   ]
  },
  {
   "cell_type": "code",
   "execution_count": 14,
   "metadata": {},
   "outputs": [],
   "source": []
  },
  {
   "cell_type": "code",
   "execution_count": 15,
   "metadata": {},
   "outputs": [],
   "source": []
  },
  {
   "cell_type": "code",
   "execution_count": 16,
   "metadata": {},
   "outputs": [],
   "source": [
    "links['probs_3'] = "
   ]
  },
  {
   "cell_type": "code",
   "execution_count": 17,
   "metadata": {},
   "outputs": [
    {
     "data": {
      "text/html": [
       "<div>\n",
       "<style scoped>\n",
       "    .dataframe tbody tr th:only-of-type {\n",
       "        vertical-align: middle;\n",
       "    }\n",
       "\n",
       "    .dataframe tbody tr th {\n",
       "        vertical-align: top;\n",
       "    }\n",
       "\n",
       "    .dataframe thead th {\n",
       "        text-align: right;\n",
       "    }\n",
       "</style>\n",
       "<table border=\"1\" class=\"dataframe\">\n",
       "  <thead>\n",
       "    <tr style=\"text-align: right;\">\n",
       "      <th></th>\n",
       "      <th>probs_1</th>\n",
       "      <th>probs_2</th>\n",
       "      <th>probs_3</th>\n",
       "    </tr>\n",
       "    <tr>\n",
       "      <th>mode</th>\n",
       "      <th></th>\n",
       "      <th></th>\n",
       "      <th></th>\n",
       "    </tr>\n",
       "  </thead>\n",
       "  <tbody>\n",
       "    <tr>\n",
       "      <th>car</th>\n",
       "      <td>0.435031</td>\n",
       "      <td>0.738596</td>\n",
       "      <td>0.281229</td>\n",
       "    </tr>\n",
       "    <tr>\n",
       "      <th>rail</th>\n",
       "      <td>0.564969</td>\n",
       "      <td>0.261404</td>\n",
       "      <td>0.718771</td>\n",
       "    </tr>\n",
       "  </tbody>\n",
       "</table>\n",
       "</div>"
      ],
      "text/plain": [
       "       probs_1   probs_2   probs_3\n",
       "mode                              \n",
       "car   0.435031  0.738596  0.281229\n",
       "rail  0.564969  0.261404  0.718771"
      ]
     },
     "execution_count": 17,
     "metadata": {},
     "output_type": "execute_result"
    }
   ],
   "source": [
    "# Calculate the mean of all results\n"
   ]
  },
  {
   "cell_type": "markdown",
   "metadata": {},
   "source": [
    "## Step 4: Trip volumes\n",
    "Given an OD-matrix, you can calculate trip columes on each link. How many people are travelling where using which mode?\n",
    "\n",
    "What is the summed up travel time?"
   ]
  },
  {
   "cell_type": "code",
   "execution_count": 18,
   "metadata": {},
   "outputs": [],
   "source": [
    "# Number of trips per year\n",
    "od_matrix = pd.read_csv('od_matrix.csv', header=None)\n",
    "od_matrix.columns = ['a', 'b', 'volumes']\n",
    "od_matrix.set_index(['a', 'b'], inplace=True)"
   ]
  },
  {
   "cell_type": "code",
   "execution_count": 19,
   "metadata": {},
   "outputs": [
    {
     "data": {
      "text/html": [
       "<div>\n",
       "<style scoped>\n",
       "    .dataframe tbody tr th:only-of-type {\n",
       "        vertical-align: middle;\n",
       "    }\n",
       "\n",
       "    .dataframe tbody tr th {\n",
       "        vertical-align: top;\n",
       "    }\n",
       "\n",
       "    .dataframe thead th {\n",
       "        text-align: right;\n",
       "    }\n",
       "</style>\n",
       "<table border=\"1\" class=\"dataframe\">\n",
       "  <thead>\n",
       "    <tr style=\"text-align: right;\">\n",
       "      <th></th>\n",
       "      <th></th>\n",
       "      <th>volumes</th>\n",
       "    </tr>\n",
       "    <tr>\n",
       "      <th>a</th>\n",
       "      <th>b</th>\n",
       "      <th></th>\n",
       "    </tr>\n",
       "  </thead>\n",
       "  <tbody>\n",
       "    <tr>\n",
       "      <th rowspan=\"3\" valign=\"top\">Hamburg</th>\n",
       "      <th>Frankfurt</th>\n",
       "      <td>483000</td>\n",
       "    </tr>\n",
       "    <tr>\n",
       "      <th>Stuttgart</th>\n",
       "      <td>155000</td>\n",
       "    </tr>\n",
       "    <tr>\n",
       "      <th>Berlin</th>\n",
       "      <td>3396000</td>\n",
       "    </tr>\n",
       "    <tr>\n",
       "      <th rowspan=\"3\" valign=\"top\">Frankfurt</th>\n",
       "      <th>Hamburg</th>\n",
       "      <td>483000</td>\n",
       "    </tr>\n",
       "    <tr>\n",
       "      <th>Stuttgart</th>\n",
       "      <td>567000</td>\n",
       "    </tr>\n",
       "    <tr>\n",
       "      <th>Berlin</th>\n",
       "      <td>732000</td>\n",
       "    </tr>\n",
       "    <tr>\n",
       "      <th rowspan=\"3\" valign=\"top\">Stuttgart</th>\n",
       "      <th>Hamburg</th>\n",
       "      <td>155000</td>\n",
       "    </tr>\n",
       "    <tr>\n",
       "      <th>Frankfurt</th>\n",
       "      <td>567000</td>\n",
       "    </tr>\n",
       "    <tr>\n",
       "      <th>Berlin</th>\n",
       "      <td>236000</td>\n",
       "    </tr>\n",
       "    <tr>\n",
       "      <th rowspan=\"3\" valign=\"top\">Berlin</th>\n",
       "      <th>Hamburg</th>\n",
       "      <td>3396000</td>\n",
       "    </tr>\n",
       "    <tr>\n",
       "      <th>Frankfurt</th>\n",
       "      <td>732000</td>\n",
       "    </tr>\n",
       "    <tr>\n",
       "      <th>Stuttgart</th>\n",
       "      <td>236000</td>\n",
       "    </tr>\n",
       "  </tbody>\n",
       "</table>\n",
       "</div>"
      ],
      "text/plain": [
       "                     volumes\n",
       "a         b                 \n",
       "Hamburg   Frankfurt   483000\n",
       "          Stuttgart   155000\n",
       "          Berlin     3396000\n",
       "Frankfurt Hamburg     483000\n",
       "          Stuttgart   567000\n",
       "          Berlin      732000\n",
       "Stuttgart Hamburg     155000\n",
       "          Frankfurt   567000\n",
       "          Berlin      236000\n",
       "Berlin    Hamburg    3396000\n",
       "          Frankfurt   732000\n",
       "          Stuttgart   236000"
      ]
     },
     "execution_count": 19,
     "metadata": {},
     "output_type": "execute_result"
    }
   ],
   "source": [
    "od_matrix"
   ]
  },
  {
   "cell_type": "code",
   "execution_count": 20,
   "metadata": {},
   "outputs": [],
   "source": [
    "# Calculate trip volumes and print averages\n"
   ]
  },
  {
   "cell_type": "code",
   "execution_count": 21,
   "metadata": {},
   "outputs": [
    {
     "data": {
      "text/html": [
       "<div>\n",
       "<style scoped>\n",
       "    .dataframe tbody tr th:only-of-type {\n",
       "        vertical-align: middle;\n",
       "    }\n",
       "\n",
       "    .dataframe tbody tr th {\n",
       "        vertical-align: top;\n",
       "    }\n",
       "\n",
       "    .dataframe thead th {\n",
       "        text-align: right;\n",
       "    }\n",
       "</style>\n",
       "<table border=\"1\" class=\"dataframe\">\n",
       "  <thead>\n",
       "    <tr style=\"text-align: right;\">\n",
       "      <th></th>\n",
       "      <th>a</th>\n",
       "      <th>b</th>\n",
       "      <th>mode</th>\n",
       "      <th>geometry</th>\n",
       "      <th>dist</th>\n",
       "      <th>time</th>\n",
       "      <th>probs_1</th>\n",
       "      <th>cost</th>\n",
       "      <th>probs_2</th>\n",
       "      <th>probs_3</th>\n",
       "      <th>volumes</th>\n",
       "    </tr>\n",
       "  </thead>\n",
       "  <tbody>\n",
       "    <tr>\n",
       "      <th>0</th>\n",
       "      <td>0</td>\n",
       "      <td>1</td>\n",
       "      <td>rail</td>\n",
       "      <td>LINESTRING (13.40833 52.51861, 9.99333 53.55056)</td>\n",
       "      <td>394.159512</td>\n",
       "      <td>1.8</td>\n",
       "      <td>0.935529</td>\n",
       "      <td>42.569227</td>\n",
       "      <td>0.703777</td>\n",
       "      <td>0.969198</td>\n",
       "      <td>3.291396e+06</td>\n",
       "    </tr>\n",
       "    <tr>\n",
       "      <th>1</th>\n",
       "      <td>0</td>\n",
       "      <td>2</td>\n",
       "      <td>rail</td>\n",
       "      <td>LINESTRING (13.40833 52.51861, 8.68222 50.11056)</td>\n",
       "      <td>585.230160</td>\n",
       "      <td>4.2</td>\n",
       "      <td>0.842959</td>\n",
       "      <td>63.204857</td>\n",
       "      <td>0.369296</td>\n",
       "      <td>0.944254</td>\n",
       "      <td>6.911940e+05</td>\n",
       "    </tr>\n",
       "    <tr>\n",
       "      <th>2</th>\n",
       "      <td>0</td>\n",
       "      <td>3</td>\n",
       "      <td>rail</td>\n",
       "      <td>LINESTRING (13.40833 52.51861, 9.18278 48.77556)</td>\n",
       "      <td>620.801595</td>\n",
       "      <td>6.2</td>\n",
       "      <td>0.302689</td>\n",
       "      <td>67.046572</td>\n",
       "      <td>0.042551</td>\n",
       "      <td>0.594959</td>\n",
       "      <td>1.404104e+05</td>\n",
       "    </tr>\n",
       "    <tr>\n",
       "      <th>3</th>\n",
       "      <td>1</td>\n",
       "      <td>0</td>\n",
       "      <td>rail</td>\n",
       "      <td>LINESTRING (9.99333 53.55056, 13.40833 52.51861)</td>\n",
       "      <td>394.159512</td>\n",
       "      <td>1.8</td>\n",
       "      <td>0.935529</td>\n",
       "      <td>42.569227</td>\n",
       "      <td>0.703777</td>\n",
       "      <td>0.969198</td>\n",
       "      <td>3.291396e+06</td>\n",
       "    </tr>\n",
       "    <tr>\n",
       "      <th>4</th>\n",
       "      <td>1</td>\n",
       "      <td>2</td>\n",
       "      <td>rail</td>\n",
       "      <td>LINESTRING (9.99333 53.55056, 8.68222 50.11056)</td>\n",
       "      <td>404.756718</td>\n",
       "      <td>3.5</td>\n",
       "      <td>0.566948</td>\n",
       "      <td>43.713725</td>\n",
       "      <td>0.172772</td>\n",
       "      <td>0.743493</td>\n",
       "      <td>3.591072e+05</td>\n",
       "    </tr>\n",
       "  </tbody>\n",
       "</table>\n",
       "</div>"
      ],
      "text/plain": [
       "   a  b  mode                                          geometry        dist  \\\n",
       "0  0  1  rail  LINESTRING (13.40833 52.51861, 9.99333 53.55056)  394.159512   \n",
       "1  0  2  rail  LINESTRING (13.40833 52.51861, 8.68222 50.11056)  585.230160   \n",
       "2  0  3  rail  LINESTRING (13.40833 52.51861, 9.18278 48.77556)  620.801595   \n",
       "3  1  0  rail  LINESTRING (9.99333 53.55056, 13.40833 52.51861)  394.159512   \n",
       "4  1  2  rail   LINESTRING (9.99333 53.55056, 8.68222 50.11056)  404.756718   \n",
       "\n",
       "   time   probs_1       cost   probs_2   probs_3       volumes  \n",
       "0   1.8  0.935529  42.569227  0.703777  0.969198  3.291396e+06  \n",
       "1   4.2  0.842959  63.204857  0.369296  0.944254  6.911940e+05  \n",
       "2   6.2  0.302689  67.046572  0.042551  0.594959  1.404104e+05  \n",
       "3   1.8  0.935529  42.569227  0.703777  0.969198  3.291396e+06  \n",
       "4   3.5  0.566948  43.713725  0.172772  0.743493  3.591072e+05  "
      ]
     },
     "execution_count": 21,
     "metadata": {},
     "output_type": "execute_result"
    }
   ],
   "source": [
    "links.head()"
   ]
  },
  {
   "cell_type": "code",
   "execution_count": 22,
   "metadata": {},
   "outputs": [
    {
     "data": {
      "text/html": [
       "<div>\n",
       "<style scoped>\n",
       "    .dataframe tbody tr th:only-of-type {\n",
       "        vertical-align: middle;\n",
       "    }\n",
       "\n",
       "    .dataframe tbody tr th {\n",
       "        vertical-align: top;\n",
       "    }\n",
       "\n",
       "    .dataframe thead th {\n",
       "        text-align: right;\n",
       "    }\n",
       "</style>\n",
       "<table border=\"1\" class=\"dataframe\">\n",
       "  <thead>\n",
       "    <tr style=\"text-align: right;\">\n",
       "      <th></th>\n",
       "      <th>pkm</th>\n",
       "    </tr>\n",
       "    <tr>\n",
       "      <th>mode</th>\n",
       "      <th></th>\n",
       "    </tr>\n",
       "  </thead>\n",
       "  <tbody>\n",
       "    <tr>\n",
       "      <th>car</th>\n",
       "      <td>4.249495e+07</td>\n",
       "    </tr>\n",
       "    <tr>\n",
       "      <th>rail</th>\n",
       "      <td>3.375642e+08</td>\n",
       "    </tr>\n",
       "  </tbody>\n",
       "</table>\n",
       "</div>"
      ],
      "text/plain": [
       "               pkm\n",
       "mode              \n",
       "car   4.249495e+07\n",
       "rail  3.375642e+08"
      ]
     },
     "execution_count": 22,
     "metadata": {},
     "output_type": "execute_result"
    }
   ],
   "source": [
    "# Calculate mode shares in passenger kilometer (pkm)\n",
    "# and print/visualise them\n",
    "links['pkm'] = "
   ]
  },
  {
   "cell_type": "code",
   "execution_count": 23,
   "metadata": {},
   "outputs": [
    {
     "data": {
      "text/plain": [
       "<AxesSubplot:>"
      ]
     },
     "execution_count": 23,
     "metadata": {},
     "output_type": "execute_result"
    },
    {
     "data": {
      "image/png": "[encoded data removed]",
      "text/plain": [
       "<Figure size 432x288 with 1 Axes>"
      ]
     },
     "metadata": {
      "needs_background": "light"
     },
     "output_type": "display_data"
    }
   ],
   "source": [
    "# Plot the volumes on the network as width of links\n",
    "# for road transport\n",
    "nodes.plot(c='r', ax=links.loc[links['mode']=='car'].plot(\n",
    "    color='y', linewidth=[v / links['volumes'].mean()\n",
    "                          for v in links['volumes']], ax=ger.plot()))"
   ]
  },
  {
   "cell_type": "code",
   "execution_count": 24,
   "metadata": {},
   "outputs": [
    {
     "data": {
      "text/plain": [
       "<AxesSubplot:>"
      ]
     },
     "execution_count": 24,
     "metadata": {},
     "output_type": "execute_result"
    },
    {
     "data": {
      "image/png": "[encoded data removed]",
      "text/plain": [
       "<Figure size 432x288 with 1 Axes>"
      ]
     },
     "metadata": {
      "needs_background": "light"
     },
     "output_type": "display_data"
    }
   ],
   "source": [
    "# Plot the volumes on the network as width of links\n",
    "# for rail transport\n"
   ]
  },
  {
   "cell_type": "code",
   "execution_count": 25,
   "metadata": {},
   "outputs": [
    {
     "data": {
      "text/plain": [
       "28815620.37508989"
      ]
     },
     "execution_count": 25,
     "metadata": {},
     "output_type": "execute_result"
    }
   ],
   "source": [
    "# Aggregated travel time\n"
   ]
  },
  {
   "cell_type": "markdown",
   "metadata": {},
   "source": [
    "## Step 5: Capacities and congestion\n",
    "So far, travel on our test network was not restricted. However, in reality roads become congested and trains crowded. Given the capacities of links and a volume-dependent congestion formula, how do people travel now? What is the new aggregated travel time?\n",
    "\n",
    "You need at least five iterations to reach an equilibrium between volumes and capacities."
   ]
  },
  {
   "cell_type": "code",
   "execution_count": null,
   "metadata": {},
   "outputs": [],
   "source": [
    "# Average occupancy in ICE trains is low in Germany while\n",
    "# main motorways are quite packed\n",
    "links['cap'] = [row['volumes']*1.25\n",
    "                if row['mode']=='car' else row['volumes']*3\n",
    "                for _, row in links.iterrows()]"
   ]
  },
  {
   "cell_type": "code",
   "execution_count": null,
   "metadata": {},
   "outputs": [],
   "source": [
    "def travel_time(volumes, capacity, time):\n",
    "    '''Calculates the travel time of a link with capacity\n",
    "    restriction applying the formula used by Smock (1962)\n",
    "    @param volumes: volume of trips on this link\n",
    "    @param capacity: capacity for trips on this link\n",
    "    @param time: travel time without capacity restriction\n",
    "    @return: new travel time'''\n",
    "    return 0.5 * time * np.exp(volumes / capacity)"
   ]
  },
  {
   "cell_type": "code",
   "execution_count": null,
   "metadata": {},
   "outputs": [],
   "source": [
    "links['time_2'] = "
   ]
  },
  {
   "cell_type": "code",
   "execution_count": null,
   "metadata": {},
   "outputs": [],
   "source": [
    "links['probs_4'] = "
   ]
  },
  {
   "cell_type": "code",
   "execution_count": null,
   "metadata": {},
   "outputs": [],
   "source": []
  },
  {
   "cell_type": "code",
   "execution_count": null,
   "metadata": {},
   "outputs": [],
   "source": [
    "links.sample(4)"
   ]
  },
  {
   "cell_type": "code",
   "execution_count": null,
   "metadata": {},
   "outputs": [],
   "source": [
    "# Calculate the mean of all results\n"
   ]
  },
  {
   "cell_type": "code",
   "execution_count": null,
   "metadata": {},
   "outputs": [],
   "source": [
    "# Aggregated travel time\n"
   ]
  },
  {
   "cell_type": "markdown",
   "metadata": {},
   "source": [
    "## Step 6: Impact of lorries\n",
    "Looking into the future, roads will become even more congested by lorries due to the rising demand for goods transport, if there is no political ambition for a shift to rail in freight transport. Given these new capacities, how does the mode share in passenger transport change? And the aggregated travel time?"
   ]
  },
  {
   "cell_type": "code",
   "execution_count": null,
   "metadata": {},
   "outputs": [],
   "source": [
    "links['cap_2'] = [row['cap']*0.9\n",
    "                  if row['mode']=='car' else row['cap']\n",
    "                  for _, row in links.iterrows()]"
   ]
  },
  {
   "cell_type": "code",
   "execution_count": null,
   "metadata": {},
   "outputs": [],
   "source": []
  },
  {
   "cell_type": "markdown",
   "metadata": {},
   "source": [
    "# End\n",
    "Congrats! You've learned the basics of open source transport modelling with Python. If you want you can go on with altering capacities, adding new nodes or modes or even adding a new LoS attribute."
   ]
  }
 ],
 "metadata": {
  "kernelspec": {
   "display_name": "Python 3",
   "language": "python",
   "name": "python3"
  },
  "language_info": {
   "codemirror_mode": {
    "name": "ipython",
    "version": 3
   },
   "file_extension": ".py",
   "mimetype": "text/x-python",
   "name": "python",
   "nbconvert_exporter": "python",
   "pygments_lexer": "ipython3",
   "version": "3.8.1"
  }
 },
 "nbformat": 4,
 "nbformat_minor": 4
}
